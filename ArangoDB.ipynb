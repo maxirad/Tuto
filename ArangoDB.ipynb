{
 "cells": [
  {
   "cell_type": "markdown",
   "metadata": {},
   "source": [
    "# ArangoDB\n",
    "\n",
    "To open ArangoDB go to : http://localhost:8529\n",
    "    Connect with _root and password\n",
    "\n",
    "Import data from csv\n",
    "\n",
    "    arangoimport --file \"PATH\" --collection \"COLLECTION_NAME\" --create-collection true --type csv"
   ]
  },
  {
   "cell_type": "markdown",
   "metadata": {},
   "source": [
    "# Queries\n",
    "\n",
    "Use a FOR loop to iterate over all the elements of a list \n",
    "Use FILTER to apply a conditional statement\n",
    "AND / OR to add more conditional statements\n",
    "SORT to sort the results according to an attribute ascending (ASC by defautl) or DESC\n",
    "OFFSET to skip the c first lines\n",
    "LIMIT to return only n lines\n",
    "\n",
    "    FOR element IN     myList\n",
    "        FILTER         myCondition\n",
    "        AND / OR       myOtherCondition\n",
    "        SORT           element.attribute ASC / DESC\n",
    "        OFFSET         c\n",
    "        LIMIT          n\n",
    "        RETURN         element (or element.attribute)\n",
    "        \n",
    "# Functions\n",
    "\n",
    "    KEEP()\n",
    "    UNSET()\n",
    "    COUNT()"
   ]
  }
 ],
 "metadata": {
  "kernelspec": {
   "display_name": "Python 3",
   "language": "python",
   "name": "python3"
  },
  "language_info": {
   "codemirror_mode": {
    "name": "ipython",
    "version": 3
   },
   "file_extension": ".py",
   "mimetype": "text/x-python",
   "name": "python",
   "nbconvert_exporter": "python",
   "pygments_lexer": "ipython3",
   "version": "3.6.8"
  }
 },
 "nbformat": 4,
 "nbformat_minor": 2
}
