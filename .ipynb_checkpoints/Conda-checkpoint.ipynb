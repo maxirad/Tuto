{
 "cells": [
  {
   "cell_type": "markdown",
   "metadata": {},
   "source": [
    "# How to use Conda (in terminal)"
   ]
  },
  {
   "cell_type": "markdown",
   "metadata": {},
   "source": [
    "## Get Info\n",
    "    conda --version   OR     conda -V\n",
    "gives version of conda\n",
    "\n",
    "    conda info\n",
    "gives infos on conda\n",
    "\n",
    "    conda info --envs\n",
    "gives infos on your environments"
   ]
  },
  {
   "cell_type": "markdown",
   "metadata": {},
   "source": [
    "## Manage packages\n",
    "\n",
    "### New packages\n",
    "    conda list\n",
    "shows all installed package and their version\n",
    "\n",
    "    conda install [package_names]\n",
    "installs packages in [package_names]\n",
    "\n",
    "    conda install package_name==3.1.4\n",
    "installs exact version of package_name\n",
    "\n",
    "### Updating\n",
    "    conda update conda\n",
    "updates conda\n",
    "\n",
    "    conda update anaconda\n",
    "updates conda and all packages\n",
    "\n",
    "    conda update [package_names]\n",
    "updates package in [package_names]\n",
    "\n",
    "    conda update --all --name ENVNAME\n",
    "Update all packages within an environment\n",
    "\n",
    "### Cleaning\n",
    "    conda clean --packages\n",
    "Remove unused cached package versions \n",
    "\n",
    "    conda uninstall -y [package_names]\n",
    "uninstalls packages in [package_names] (-y bypasses the prompt)"
   ]
  },
  {
   "cell_type": "markdown",
   "metadata": {},
   "source": [
    "## Manage environments\n",
    "\n",
    "### Create & Remove     \n",
    "    conda create --name [envName] python=2.7 packageA>=6.2 packageB\n",
    "creates an environment named envName with Python 2.7 packageA more recent than 6.2 and packageB\n",
    "\n",
    "    conda create --clone envName --name NewEnv\n",
    "Make an exact copy of an environment\n",
    "\n",
    "    conda env remove --name [envName]\n",
    "removes the environment envName from the built \n",
    "\n",
    "\n",
    "### Export & Import\n",
    "    conda env export --name ENVNAME > envname.yml\n",
    "Export an environment to a YAML file \n",
    "\n",
    "    conda env create --file envname.yml\n",
    "Create an environment from YAML file\n",
    "\n",
    "### Activate & Deactivate\n",
    "    conda activate envName\n",
    "Activate a envName conda environment \n",
    "\n",
    "Once in an environment you can install and uninstall features\n",
    "\n",
    "    conda deactivate\n",
    "Deactivate the current environment\n",
    "Once in an environment you can install and uninstall"
   ]
  },
  {
   "cell_type": "markdown",
   "metadata": {},
   "source": [
    "# Good start\n",
    "\n",
    "    conda update anaconda\n",
    "to get all up to date\n",
    "\n",
    "    conda install -y pip jupyter numpy scipy sympy scikit-learn pandas matplotlib pytorch theano nltk tensorflow keras numba spacy bokeh gensim beautifulsoup4\n",
    "a nice list of packages available with the conda distribution\n",
    "\n",
    "    pip install xgboost cntk\n",
    "other packages that may be useful"
   ]
  }
 ],
 "metadata": {
  "kernelspec": {
   "display_name": "Python 3",
   "language": "python",
   "name": "python3"
  },
  "language_info": {
   "codemirror_mode": {
    "name": "ipython",
    "version": 3
   },
   "file_extension": ".py",
   "mimetype": "text/x-python",
   "name": "python",
   "nbconvert_exporter": "python",
   "pygments_lexer": "ipython3",
   "version": "3.6.8"
  }
 },
 "nbformat": 4,
 "nbformat_minor": 2
}
